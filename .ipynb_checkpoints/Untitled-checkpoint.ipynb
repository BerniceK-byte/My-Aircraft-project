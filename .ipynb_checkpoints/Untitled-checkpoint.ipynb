{
 "cells": [
  {
   "cell_type": "markdown",
   "id": "fa97b7c3",
   "metadata": {},
   "source": [
    "## Optimal Aircraft Selection for Low-Risk, High-Return Aviation Operations"
   ]
  },
  {
   "cell_type": "markdown",
   "id": "772233f0",
   "metadata": {},
   "source": [
    "### Project goal"
   ]
  },
  {
   "cell_type": "markdown",
   "id": "e1ab5a8d",
   "metadata": {},
   "source": [
    "This project is from https://www.kaggle.com/datasets/khsamaha/aviation-accident-database-synopses and is about an analysis of Aircraft accidents from the year 1962 to 2023.This project aims at finding the Lowest Risk Aircraft for purchase by answering the following questions:"
   ]
  },
  {
   "cell_type": "markdown",
   "id": "531f4a0c",
   "metadata": {},
   "source": [
    "1.Which Aircraft has the lowest risk for the company?\n",
    "\n",
    "2.Which Aircraft has the highest number of accidents?\n",
    "\n",
    "3.Which state had the highest number of accidents?\n",
    "\n",
    "4.Which state had the highest number of incidents?"
   ]
  },
  {
   "cell_type": "markdown",
   "id": "f5c47e13",
   "metadata": {},
   "source": [
    "### Business Understanding"
   ]
  },
  {
   "cell_type": "markdown",
   "id": "6d5a84ef",
   "metadata": {},
   "source": [
    "This project highlights a problem that has been a menace for many years.Many lives have been lost through plane crashes and there are many reasons behind this.This directly impacts the Aircraft business and for an organization intending to invest in this business.A good background check and analysis must be done to ensure the safety,maintenance cost as well as operational cost of running such a business.This is the main purpose of doing this research so as to find the Lowest-Risk Aircraft for purchase for both personal and commercial use."
   ]
  },
  {
   "cell_type": "markdown",
   "id": "41febdde",
   "metadata": {},
   "source": [
    "### Data Understanding"
   ]
  },
  {
   "cell_type": "markdown",
   "id": "69ba4b98",
   "metadata": {},
   "source": [
    "I used 31 columns for my analysis which included variables about:\n",
    "\n",
    "The total number of injuries caused by various aircrafts\n",
    "\n",
    "The various types of Aircrafts\n",
    "\n",
    "The location of the Aircraft accidents\n",
    "\n",
    "The weather patterns for when the accidents happened"
   ]
  },
  {
   "cell_type": "code",
   "execution_count": 2,
   "id": "f5dd1f82",
   "metadata": {},
   "outputs": [],
   "source": [
    "#To begin the analysis, I had to import all the necessary libaries that will be used.\n",
    "import numpy as np\n",
    "import pandas as pd\n",
    "import matplotlib.pyplot as plt\n",
    "import seaborn as sns"
   ]
  },
  {
   "cell_type": "code",
   "execution_count": null,
   "id": "2c31b83d",
   "metadata": {},
   "outputs": [],
   "source": []
  }
 ],
 "metadata": {
  "kernelspec": {
   "display_name": "Python 3 (ipykernel)",
   "language": "python",
   "name": "python3"
  },
  "language_info": {
   "codemirror_mode": {
    "name": "ipython",
    "version": 3
   },
   "file_extension": ".py",
   "mimetype": "text/x-python",
   "name": "python",
   "nbconvert_exporter": "python",
   "pygments_lexer": "ipython3",
   "version": "3.11.9"
  }
 },
 "nbformat": 4,
 "nbformat_minor": 5
}

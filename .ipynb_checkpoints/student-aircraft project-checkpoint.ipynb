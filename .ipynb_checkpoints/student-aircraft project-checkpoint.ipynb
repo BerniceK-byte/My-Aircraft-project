{
 "cells": [
  {
   "cell_type": "markdown",
   "id": "fa97b7c3",
   "metadata": {},
   "source": [
    "## Optimal Aircraft Selection for Low-Risk, High-Return Aviation Operations"
   ]
  },
  {
   "cell_type": "markdown",
   "id": "772233f0",
   "metadata": {},
   "source": [
    "### Project goal"
   ]
  },
  {
   "cell_type": "markdown",
   "id": "e1ab5a8d",
   "metadata": {},
   "source": [
    "This project is from https://www.kaggle.com/datasets/khsamaha/aviation-accident-database-synopses and is about an analysis of Aircraft accidents from the year 1962 to 2023.This project aims at finding the Lowest Risk Aircraft for purchase by answering the following questions:"
   ]
  },
  {
   "cell_type": "markdown",
   "id": "531f4a0c",
   "metadata": {},
   "source": [
    "1.Which Aircraft has the lowest risk for the company?\n",
    "\n",
    "2.Which Aircraft has the highest number of accidents?\n",
    "\n",
    "3.Which location had the highest number of accidents?\n",
    "\n",
    "4.Which state had the highest number of incidents?"
   ]
  },
  {
   "cell_type": "markdown",
   "id": "f5c47e13",
   "metadata": {},
   "source": [
    "### Business Understanding"
   ]
  },
  {
   "cell_type": "markdown",
   "id": "6d5a84ef",
   "metadata": {},
   "source": [
    "This project highlights a problem that has been a menace for many years.Many lives have been lost through plane crashes and there are many reasons behind this.This directly impacts the Aircraft business and for an organization intending to invest in this business.A good background check and analysis must be done to ensure the safety,maintenance cost as well as operational cost of running such a business.This is the main purpose of doing this research so as to find the Lowest-Risk Aircraft for purchase for both personal and commercial use."
   ]
  },
  {
   "cell_type": "markdown",
   "id": "41febdde",
   "metadata": {},
   "source": [
    "### Data Understanding"
   ]
  },
  {
   "cell_type": "markdown",
   "id": "69ba4b98",
   "metadata": {},
   "source": [
    "I used 17 columns for my analysis which included variables about:\n",
    "\n",
    "The total number of injuries caused by various aircrafts\n",
    "\n",
    "The various types of Aircrafts\n",
    "\n",
    "The location of the Aircraft accidents\n",
    "\n",
    "The weather patterns for when the accidents happened"
   ]
  },
  {
   "cell_type": "code",
   "execution_count": 84,
   "id": "f5dd1f82",
   "metadata": {},
   "outputs": [],
   "source": [
    "#To begin the analysis, I had to import all the necessary libaries that will be used.\n",
    "import numpy as np\n",
    "import pandas as pd\n",
    "import matplotlib.pyplot as plt\n",
    "import seaborn as sns"
   ]
  },
  {
   "cell_type": "code",
   "execution_count": 85,
   "id": "2c31b83d",
   "metadata": {},
   "outputs": [],
   "source": [
    "#I had to load and read the dataset that I would use for analysis.\n",
    "df= pd.read_csv(\"AviationData.csv \",encoding='ISO-8859-1',low_memory=False)#I used the encoding and low-memory to ensure the data is downloaded in the right format "
   ]
  },
  {
   "cell_type": "markdown",
   "id": "3c70c11f",
   "metadata": {},
   "source": [
    "Prior to working on any form of data.It is required to have an overview of the data and familiarize with the data in context so as to do the right analysis"
   ]
  },
  {
   "cell_type": "code",
   "execution_count": 86,
   "id": "9bac3af3",
   "metadata": {},
   "outputs": [
    {
     "data": {
      "text/html": [
       "<div>\n",
       "<style scoped>\n",
       "    .dataframe tbody tr th:only-of-type {\n",
       "        vertical-align: middle;\n",
       "    }\n",
       "\n",
       "    .dataframe tbody tr th {\n",
       "        vertical-align: top;\n",
       "    }\n",
       "\n",
       "    .dataframe thead th {\n",
       "        text-align: right;\n",
       "    }\n",
       "</style>\n",
       "<table border=\"1\" class=\"dataframe\">\n",
       "  <thead>\n",
       "    <tr style=\"text-align: right;\">\n",
       "      <th></th>\n",
       "      <th>Event.Id</th>\n",
       "      <th>Investigation.Type</th>\n",
       "      <th>Accident.Number</th>\n",
       "      <th>Event.Date</th>\n",
       "      <th>Location</th>\n",
       "      <th>Country</th>\n",
       "      <th>Latitude</th>\n",
       "      <th>Longitude</th>\n",
       "      <th>Airport.Code</th>\n",
       "      <th>Airport.Name</th>\n",
       "      <th>...</th>\n",
       "      <th>Purpose.of.flight</th>\n",
       "      <th>Air.carrier</th>\n",
       "      <th>Total.Fatal.Injuries</th>\n",
       "      <th>Total.Serious.Injuries</th>\n",
       "      <th>Total.Minor.Injuries</th>\n",
       "      <th>Total.Uninjured</th>\n",
       "      <th>Weather.Condition</th>\n",
       "      <th>Broad.phase.of.flight</th>\n",
       "      <th>Report.Status</th>\n",
       "      <th>Publication.Date</th>\n",
       "    </tr>\n",
       "  </thead>\n",
       "  <tbody>\n",
       "    <tr>\n",
       "      <th>0</th>\n",
       "      <td>20001218X45444</td>\n",
       "      <td>Accident</td>\n",
       "      <td>SEA87LA080</td>\n",
       "      <td>1948-10-24</td>\n",
       "      <td>MOOSE CREEK, ID</td>\n",
       "      <td>United States</td>\n",
       "      <td>NaN</td>\n",
       "      <td>NaN</td>\n",
       "      <td>NaN</td>\n",
       "      <td>NaN</td>\n",
       "      <td>...</td>\n",
       "      <td>Personal</td>\n",
       "      <td>NaN</td>\n",
       "      <td>2.0</td>\n",
       "      <td>0.0</td>\n",
       "      <td>0.0</td>\n",
       "      <td>0.0</td>\n",
       "      <td>UNK</td>\n",
       "      <td>Cruise</td>\n",
       "      <td>Probable Cause</td>\n",
       "      <td>NaN</td>\n",
       "    </tr>\n",
       "    <tr>\n",
       "      <th>1</th>\n",
       "      <td>20001218X45447</td>\n",
       "      <td>Accident</td>\n",
       "      <td>LAX94LA336</td>\n",
       "      <td>1962-07-19</td>\n",
       "      <td>BRIDGEPORT, CA</td>\n",
       "      <td>United States</td>\n",
       "      <td>NaN</td>\n",
       "      <td>NaN</td>\n",
       "      <td>NaN</td>\n",
       "      <td>NaN</td>\n",
       "      <td>...</td>\n",
       "      <td>Personal</td>\n",
       "      <td>NaN</td>\n",
       "      <td>4.0</td>\n",
       "      <td>0.0</td>\n",
       "      <td>0.0</td>\n",
       "      <td>0.0</td>\n",
       "      <td>UNK</td>\n",
       "      <td>Unknown</td>\n",
       "      <td>Probable Cause</td>\n",
       "      <td>19-09-1996</td>\n",
       "    </tr>\n",
       "    <tr>\n",
       "      <th>2</th>\n",
       "      <td>20061025X01555</td>\n",
       "      <td>Accident</td>\n",
       "      <td>NYC07LA005</td>\n",
       "      <td>1974-08-30</td>\n",
       "      <td>Saltville, VA</td>\n",
       "      <td>United States</td>\n",
       "      <td>36.922223</td>\n",
       "      <td>-81.878056</td>\n",
       "      <td>NaN</td>\n",
       "      <td>NaN</td>\n",
       "      <td>...</td>\n",
       "      <td>Personal</td>\n",
       "      <td>NaN</td>\n",
       "      <td>3.0</td>\n",
       "      <td>NaN</td>\n",
       "      <td>NaN</td>\n",
       "      <td>NaN</td>\n",
       "      <td>IMC</td>\n",
       "      <td>Cruise</td>\n",
       "      <td>Probable Cause</td>\n",
       "      <td>26-02-2007</td>\n",
       "    </tr>\n",
       "    <tr>\n",
       "      <th>3</th>\n",
       "      <td>20001218X45448</td>\n",
       "      <td>Accident</td>\n",
       "      <td>LAX96LA321</td>\n",
       "      <td>1977-06-19</td>\n",
       "      <td>EUREKA, CA</td>\n",
       "      <td>United States</td>\n",
       "      <td>NaN</td>\n",
       "      <td>NaN</td>\n",
       "      <td>NaN</td>\n",
       "      <td>NaN</td>\n",
       "      <td>...</td>\n",
       "      <td>Personal</td>\n",
       "      <td>NaN</td>\n",
       "      <td>2.0</td>\n",
       "      <td>0.0</td>\n",
       "      <td>0.0</td>\n",
       "      <td>0.0</td>\n",
       "      <td>IMC</td>\n",
       "      <td>Cruise</td>\n",
       "      <td>Probable Cause</td>\n",
       "      <td>12-09-2000</td>\n",
       "    </tr>\n",
       "    <tr>\n",
       "      <th>4</th>\n",
       "      <td>20041105X01764</td>\n",
       "      <td>Accident</td>\n",
       "      <td>CHI79FA064</td>\n",
       "      <td>1979-08-02</td>\n",
       "      <td>Canton, OH</td>\n",
       "      <td>United States</td>\n",
       "      <td>NaN</td>\n",
       "      <td>NaN</td>\n",
       "      <td>NaN</td>\n",
       "      <td>NaN</td>\n",
       "      <td>...</td>\n",
       "      <td>Personal</td>\n",
       "      <td>NaN</td>\n",
       "      <td>1.0</td>\n",
       "      <td>2.0</td>\n",
       "      <td>NaN</td>\n",
       "      <td>0.0</td>\n",
       "      <td>VMC</td>\n",
       "      <td>Approach</td>\n",
       "      <td>Probable Cause</td>\n",
       "      <td>16-04-1980</td>\n",
       "    </tr>\n",
       "  </tbody>\n",
       "</table>\n",
       "<p>5 rows × 31 columns</p>\n",
       "</div>"
      ],
      "text/plain": [
       "         Event.Id Investigation.Type Accident.Number  Event.Date  \\\n",
       "0  20001218X45444           Accident      SEA87LA080  1948-10-24   \n",
       "1  20001218X45447           Accident      LAX94LA336  1962-07-19   \n",
       "2  20061025X01555           Accident      NYC07LA005  1974-08-30   \n",
       "3  20001218X45448           Accident      LAX96LA321  1977-06-19   \n",
       "4  20041105X01764           Accident      CHI79FA064  1979-08-02   \n",
       "\n",
       "          Location        Country   Latitude   Longitude Airport.Code  \\\n",
       "0  MOOSE CREEK, ID  United States        NaN         NaN          NaN   \n",
       "1   BRIDGEPORT, CA  United States        NaN         NaN          NaN   \n",
       "2    Saltville, VA  United States  36.922223  -81.878056          NaN   \n",
       "3       EUREKA, CA  United States        NaN         NaN          NaN   \n",
       "4       Canton, OH  United States        NaN         NaN          NaN   \n",
       "\n",
       "  Airport.Name  ... Purpose.of.flight Air.carrier Total.Fatal.Injuries  \\\n",
       "0          NaN  ...          Personal         NaN                  2.0   \n",
       "1          NaN  ...          Personal         NaN                  4.0   \n",
       "2          NaN  ...          Personal         NaN                  3.0   \n",
       "3          NaN  ...          Personal         NaN                  2.0   \n",
       "4          NaN  ...          Personal         NaN                  1.0   \n",
       "\n",
       "  Total.Serious.Injuries Total.Minor.Injuries Total.Uninjured  \\\n",
       "0                    0.0                  0.0             0.0   \n",
       "1                    0.0                  0.0             0.0   \n",
       "2                    NaN                  NaN             NaN   \n",
       "3                    0.0                  0.0             0.0   \n",
       "4                    2.0                  NaN             0.0   \n",
       "\n",
       "  Weather.Condition  Broad.phase.of.flight   Report.Status Publication.Date  \n",
       "0               UNK                 Cruise  Probable Cause              NaN  \n",
       "1               UNK                Unknown  Probable Cause       19-09-1996  \n",
       "2               IMC                 Cruise  Probable Cause       26-02-2007  \n",
       "3               IMC                 Cruise  Probable Cause       12-09-2000  \n",
       "4               VMC               Approach  Probable Cause       16-04-1980  \n",
       "\n",
       "[5 rows x 31 columns]"
      ]
     },
     "execution_count": 86,
     "metadata": {},
     "output_type": "execute_result"
    }
   ],
   "source": [
    "# I run this code to get an overview of the data i intended to work with\n",
    "df.head()#This code gives an output of the first 5 rows and all the columns"
   ]
  },
  {
   "cell_type": "code",
   "execution_count": 87,
   "id": "691671b7",
   "metadata": {},
   "outputs": [
    {
     "data": {
      "text/html": [
       "<div>\n",
       "<style scoped>\n",
       "    .dataframe tbody tr th:only-of-type {\n",
       "        vertical-align: middle;\n",
       "    }\n",
       "\n",
       "    .dataframe tbody tr th {\n",
       "        vertical-align: top;\n",
       "    }\n",
       "\n",
       "    .dataframe thead th {\n",
       "        text-align: right;\n",
       "    }\n",
       "</style>\n",
       "<table border=\"1\" class=\"dataframe\">\n",
       "  <thead>\n",
       "    <tr style=\"text-align: right;\">\n",
       "      <th></th>\n",
       "      <th>Event.Id</th>\n",
       "      <th>Investigation.Type</th>\n",
       "      <th>Accident.Number</th>\n",
       "      <th>Event.Date</th>\n",
       "      <th>Location</th>\n",
       "      <th>Country</th>\n",
       "      <th>Latitude</th>\n",
       "      <th>Longitude</th>\n",
       "      <th>Airport.Code</th>\n",
       "      <th>Airport.Name</th>\n",
       "      <th>...</th>\n",
       "      <th>Purpose.of.flight</th>\n",
       "      <th>Air.carrier</th>\n",
       "      <th>Total.Fatal.Injuries</th>\n",
       "      <th>Total.Serious.Injuries</th>\n",
       "      <th>Total.Minor.Injuries</th>\n",
       "      <th>Total.Uninjured</th>\n",
       "      <th>Weather.Condition</th>\n",
       "      <th>Broad.phase.of.flight</th>\n",
       "      <th>Report.Status</th>\n",
       "      <th>Publication.Date</th>\n",
       "    </tr>\n",
       "  </thead>\n",
       "  <tbody>\n",
       "    <tr>\n",
       "      <th>88884</th>\n",
       "      <td>20221227106491</td>\n",
       "      <td>Accident</td>\n",
       "      <td>ERA23LA093</td>\n",
       "      <td>2022-12-26</td>\n",
       "      <td>Annapolis, MD</td>\n",
       "      <td>United States</td>\n",
       "      <td>NaN</td>\n",
       "      <td>NaN</td>\n",
       "      <td>NaN</td>\n",
       "      <td>NaN</td>\n",
       "      <td>...</td>\n",
       "      <td>Personal</td>\n",
       "      <td>NaN</td>\n",
       "      <td>0.0</td>\n",
       "      <td>1.0</td>\n",
       "      <td>0.0</td>\n",
       "      <td>0.0</td>\n",
       "      <td>NaN</td>\n",
       "      <td>NaN</td>\n",
       "      <td>NaN</td>\n",
       "      <td>29-12-2022</td>\n",
       "    </tr>\n",
       "    <tr>\n",
       "      <th>88885</th>\n",
       "      <td>20221227106494</td>\n",
       "      <td>Accident</td>\n",
       "      <td>ERA23LA095</td>\n",
       "      <td>2022-12-26</td>\n",
       "      <td>Hampton, NH</td>\n",
       "      <td>United States</td>\n",
       "      <td>NaN</td>\n",
       "      <td>NaN</td>\n",
       "      <td>NaN</td>\n",
       "      <td>NaN</td>\n",
       "      <td>...</td>\n",
       "      <td>NaN</td>\n",
       "      <td>NaN</td>\n",
       "      <td>0.0</td>\n",
       "      <td>0.0</td>\n",
       "      <td>0.0</td>\n",
       "      <td>0.0</td>\n",
       "      <td>NaN</td>\n",
       "      <td>NaN</td>\n",
       "      <td>NaN</td>\n",
       "      <td>NaN</td>\n",
       "    </tr>\n",
       "    <tr>\n",
       "      <th>88886</th>\n",
       "      <td>20221227106497</td>\n",
       "      <td>Accident</td>\n",
       "      <td>WPR23LA075</td>\n",
       "      <td>2022-12-26</td>\n",
       "      <td>Payson, AZ</td>\n",
       "      <td>United States</td>\n",
       "      <td>341525N</td>\n",
       "      <td>1112021W</td>\n",
       "      <td>PAN</td>\n",
       "      <td>PAYSON</td>\n",
       "      <td>...</td>\n",
       "      <td>Personal</td>\n",
       "      <td>NaN</td>\n",
       "      <td>0.0</td>\n",
       "      <td>0.0</td>\n",
       "      <td>0.0</td>\n",
       "      <td>1.0</td>\n",
       "      <td>VMC</td>\n",
       "      <td>NaN</td>\n",
       "      <td>NaN</td>\n",
       "      <td>27-12-2022</td>\n",
       "    </tr>\n",
       "    <tr>\n",
       "      <th>88887</th>\n",
       "      <td>20221227106498</td>\n",
       "      <td>Accident</td>\n",
       "      <td>WPR23LA076</td>\n",
       "      <td>2022-12-26</td>\n",
       "      <td>Morgan, UT</td>\n",
       "      <td>United States</td>\n",
       "      <td>NaN</td>\n",
       "      <td>NaN</td>\n",
       "      <td>NaN</td>\n",
       "      <td>NaN</td>\n",
       "      <td>...</td>\n",
       "      <td>Personal</td>\n",
       "      <td>MC CESSNA 210N LLC</td>\n",
       "      <td>0.0</td>\n",
       "      <td>0.0</td>\n",
       "      <td>0.0</td>\n",
       "      <td>0.0</td>\n",
       "      <td>NaN</td>\n",
       "      <td>NaN</td>\n",
       "      <td>NaN</td>\n",
       "      <td>NaN</td>\n",
       "    </tr>\n",
       "    <tr>\n",
       "      <th>88888</th>\n",
       "      <td>20221230106513</td>\n",
       "      <td>Accident</td>\n",
       "      <td>ERA23LA097</td>\n",
       "      <td>2022-12-29</td>\n",
       "      <td>Athens, GA</td>\n",
       "      <td>United States</td>\n",
       "      <td>NaN</td>\n",
       "      <td>NaN</td>\n",
       "      <td>NaN</td>\n",
       "      <td>NaN</td>\n",
       "      <td>...</td>\n",
       "      <td>Personal</td>\n",
       "      <td>NaN</td>\n",
       "      <td>0.0</td>\n",
       "      <td>1.0</td>\n",
       "      <td>0.0</td>\n",
       "      <td>1.0</td>\n",
       "      <td>NaN</td>\n",
       "      <td>NaN</td>\n",
       "      <td>NaN</td>\n",
       "      <td>30-12-2022</td>\n",
       "    </tr>\n",
       "  </tbody>\n",
       "</table>\n",
       "<p>5 rows × 31 columns</p>\n",
       "</div>"
      ],
      "text/plain": [
       "             Event.Id Investigation.Type Accident.Number  Event.Date  \\\n",
       "88884  20221227106491           Accident      ERA23LA093  2022-12-26   \n",
       "88885  20221227106494           Accident      ERA23LA095  2022-12-26   \n",
       "88886  20221227106497           Accident      WPR23LA075  2022-12-26   \n",
       "88887  20221227106498           Accident      WPR23LA076  2022-12-26   \n",
       "88888  20221230106513           Accident      ERA23LA097  2022-12-29   \n",
       "\n",
       "            Location        Country Latitude Longitude Airport.Code  \\\n",
       "88884  Annapolis, MD  United States      NaN       NaN          NaN   \n",
       "88885    Hampton, NH  United States      NaN       NaN          NaN   \n",
       "88886     Payson, AZ  United States  341525N  1112021W          PAN   \n",
       "88887     Morgan, UT  United States      NaN       NaN          NaN   \n",
       "88888     Athens, GA  United States      NaN       NaN          NaN   \n",
       "\n",
       "      Airport.Name  ... Purpose.of.flight         Air.carrier  \\\n",
       "88884          NaN  ...          Personal                 NaN   \n",
       "88885          NaN  ...               NaN                 NaN   \n",
       "88886       PAYSON  ...          Personal                 NaN   \n",
       "88887          NaN  ...          Personal  MC CESSNA 210N LLC   \n",
       "88888          NaN  ...          Personal                 NaN   \n",
       "\n",
       "      Total.Fatal.Injuries Total.Serious.Injuries Total.Minor.Injuries  \\\n",
       "88884                  0.0                    1.0                  0.0   \n",
       "88885                  0.0                    0.0                  0.0   \n",
       "88886                  0.0                    0.0                  0.0   \n",
       "88887                  0.0                    0.0                  0.0   \n",
       "88888                  0.0                    1.0                  0.0   \n",
       "\n",
       "      Total.Uninjured Weather.Condition  Broad.phase.of.flight Report.Status  \\\n",
       "88884             0.0               NaN                    NaN           NaN   \n",
       "88885             0.0               NaN                    NaN           NaN   \n",
       "88886             1.0               VMC                    NaN           NaN   \n",
       "88887             0.0               NaN                    NaN           NaN   \n",
       "88888             1.0               NaN                    NaN           NaN   \n",
       "\n",
       "      Publication.Date  \n",
       "88884       29-12-2022  \n",
       "88885              NaN  \n",
       "88886       27-12-2022  \n",
       "88887              NaN  \n",
       "88888       30-12-2022  \n",
       "\n",
       "[5 rows x 31 columns]"
      ]
     },
     "execution_count": 87,
     "metadata": {},
     "output_type": "execute_result"
    }
   ],
   "source": [
    "#This was to see the consistent flow of data\n",
    "df.tail()#This code gives the last 5rows of the data including all the columns"
   ]
  },
  {
   "cell_type": "code",
   "execution_count": 88,
   "id": "704c27c1",
   "metadata": {},
   "outputs": [
    {
     "name": "stdout",
     "output_type": "stream",
     "text": [
      "<class 'pandas.core.frame.DataFrame'>\n",
      "RangeIndex: 88889 entries, 0 to 88888\n",
      "Data columns (total 31 columns):\n",
      " #   Column                  Non-Null Count  Dtype  \n",
      "---  ------                  --------------  -----  \n",
      " 0   Event.Id                88889 non-null  object \n",
      " 1   Investigation.Type      88889 non-null  object \n",
      " 2   Accident.Number         88889 non-null  object \n",
      " 3   Event.Date              88889 non-null  object \n",
      " 4   Location                88837 non-null  object \n",
      " 5   Country                 88663 non-null  object \n",
      " 6   Latitude                34382 non-null  object \n",
      " 7   Longitude               34373 non-null  object \n",
      " 8   Airport.Code            50132 non-null  object \n",
      " 9   Airport.Name            52704 non-null  object \n",
      " 10  Injury.Severity         87889 non-null  object \n",
      " 11  Aircraft.damage         85695 non-null  object \n",
      " 12  Aircraft.Category       32287 non-null  object \n",
      " 13  Registration.Number     87507 non-null  object \n",
      " 14  Make                    88826 non-null  object \n",
      " 15  Model                   88797 non-null  object \n",
      " 16  Amateur.Built           88787 non-null  object \n",
      " 17  Number.of.Engines       82805 non-null  float64\n",
      " 18  Engine.Type             81793 non-null  object \n",
      " 19  FAR.Description         32023 non-null  object \n",
      " 20  Schedule                12582 non-null  object \n",
      " 21  Purpose.of.flight       82697 non-null  object \n",
      " 22  Air.carrier             16648 non-null  object \n",
      " 23  Total.Fatal.Injuries    77488 non-null  float64\n",
      " 24  Total.Serious.Injuries  76379 non-null  float64\n",
      " 25  Total.Minor.Injuries    76956 non-null  float64\n",
      " 26  Total.Uninjured         82977 non-null  float64\n",
      " 27  Weather.Condition       84397 non-null  object \n",
      " 28  Broad.phase.of.flight   61724 non-null  object \n",
      " 29  Report.Status           82505 non-null  object \n",
      " 30  Publication.Date        75118 non-null  object \n",
      "dtypes: float64(5), object(26)\n",
      "memory usage: 21.0+ MB\n"
     ]
    }
   ],
   "source": [
    "#I checked the data types of each column\n",
    "df.info()"
   ]
  },
  {
   "cell_type": "code",
   "execution_count": 89,
   "id": "662992ac",
   "metadata": {},
   "outputs": [],
   "source": [
    "df2=df.copy(deep=True)"
   ]
  },
  {
   "cell_type": "code",
   "execution_count": 90,
   "id": "db3f1c98",
   "metadata": {},
   "outputs": [
    {
     "data": {
      "text/plain": [
       "(88889, 31)"
      ]
     },
     "execution_count": 90,
     "metadata": {},
     "output_type": "execute_result"
    }
   ],
   "source": [
    "df2.shape"
   ]
  },
  {
   "cell_type": "markdown",
   "id": "bf185311",
   "metadata": {},
   "source": [
    "### Handling missing data"
   ]
  },
  {
   "cell_type": "markdown",
   "id": "b7aaebbe",
   "metadata": {},
   "source": [
    "For acurate analysis of data ,It is important to work with the correct data.Missing values and null values can bring a lot of inaccuracy when doing analysis and hinder the making of informed decisions.It is therefore necessary to find columns with missing data,duplicated data as well as deleting columns that may not be helpful in analysis"
   ]
  },
  {
   "cell_type": "code",
   "execution_count": 91,
   "id": "7a718e81",
   "metadata": {},
   "outputs": [
    {
     "data": {
      "text/plain": [
       "Event.Id                      0\n",
       "Investigation.Type            0\n",
       "Accident.Number               0\n",
       "Event.Date                    0\n",
       "Location                     52\n",
       "Country                     226\n",
       "Latitude                  54507\n",
       "Longitude                 54516\n",
       "Airport.Code              38757\n",
       "Airport.Name              36185\n",
       "Injury.Severity            1000\n",
       "Aircraft.damage            3194\n",
       "Aircraft.Category         56602\n",
       "Registration.Number        1382\n",
       "Make                         63\n",
       "Model                        92\n",
       "Amateur.Built               102\n",
       "Number.of.Engines          6084\n",
       "Engine.Type                7096\n",
       "FAR.Description           56866\n",
       "Schedule                  76307\n",
       "Purpose.of.flight          6192\n",
       "Air.carrier               72241\n",
       "Total.Fatal.Injuries      11401\n",
       "Total.Serious.Injuries    12510\n",
       "Total.Minor.Injuries      11933\n",
       "Total.Uninjured            5912\n",
       "Weather.Condition          4492\n",
       "Broad.phase.of.flight     27165\n",
       "Report.Status              6384\n",
       "Publication.Date          13771\n",
       "dtype: int64"
      ]
     },
     "execution_count": 91,
     "metadata": {},
     "output_type": "execute_result"
    }
   ],
   "source": [
    "# This code gives me a total sum of all the missing data in every column\n",
    "df2.isnull().sum()"
   ]
  },
  {
   "cell_type": "code",
   "execution_count": 92,
   "id": "37368744",
   "metadata": {},
   "outputs": [
    {
     "data": {
      "text/plain": [
       "Index(['Event.Id', 'Investigation.Type', 'Accident.Number', 'Event.Date',\n",
       "       'Location', 'Country', 'Latitude', 'Longitude', 'Airport.Code',\n",
       "       'Airport.Name', 'Injury.Severity', 'Aircraft.damage',\n",
       "       'Aircraft.Category', 'Registration.Number', 'Make', 'Model',\n",
       "       'Amateur.Built', 'Number.of.Engines', 'Engine.Type', 'FAR.Description',\n",
       "       'Schedule', 'Purpose.of.flight', 'Air.carrier', 'Total.Fatal.Injuries',\n",
       "       'Total.Serious.Injuries', 'Total.Minor.Injuries', 'Total.Uninjured',\n",
       "       'Weather.Condition', 'Broad.phase.of.flight', 'Report.Status',\n",
       "       'Publication.Date'],\n",
       "      dtype='object')"
      ]
     },
     "execution_count": 92,
     "metadata": {},
     "output_type": "execute_result"
    }
   ],
   "source": [
    "#I ran this code to identify all the columns \n",
    "df2.columns"
   ]
  },
  {
   "cell_type": "code",
   "execution_count": 93,
   "id": "1b1501c9",
   "metadata": {},
   "outputs": [
    {
     "name": "stdout",
     "output_type": "stream",
     "text": [
      "Event.Id                      0\n",
      "Investigation.Type            0\n",
      "Accident.Number               0\n",
      "Event.Date                    0\n",
      "Location                     52\n",
      "Country                     226\n",
      "Latitude                  54507\n",
      "Longitude                 54516\n",
      "Airport.Code              38757\n",
      "Airport.Name              36185\n",
      "Injury.Severity            1000\n",
      "Aircraft.damage            3194\n",
      "Aircraft.Category         56602\n",
      "Registration.Number        1382\n",
      "Make                         63\n",
      "Model                        92\n",
      "Amateur.Built               102\n",
      "Number.of.Engines          6084\n",
      "Engine.Type                7096\n",
      "FAR.Description           56866\n",
      "Schedule                  76307\n",
      "Purpose.of.flight          6192\n",
      "Air.carrier               72241\n",
      "Total.Fatal.Injuries      11401\n",
      "Total.Serious.Injuries    12510\n",
      "Total.Minor.Injuries      11933\n",
      "Total.Uninjured            5912\n",
      "Weather.Condition          4492\n",
      "Broad.phase.of.flight     27165\n",
      "Report.Status              6384\n",
      "Publication.Date          13771\n",
      "dtype: int64\n"
     ]
    }
   ],
   "source": [
    "#From this I was able to identify all the null values within the data before i did the data cleaning.\n",
    "#from the output we can see that there is a lot of data missing in our columns\n",
    "print(df2.isna().sum())"
   ]
  },
  {
   "cell_type": "code",
   "execution_count": 94,
   "id": "7c0dc141",
   "metadata": {},
   "outputs": [],
   "source": [
    "# I ran this code to change all the column names to lowercase for ease of identification\n",
    "df2.columns= df2.columns.str.lower()"
   ]
  },
  {
   "cell_type": "code",
   "execution_count": 95,
   "id": "ead84d16",
   "metadata": {},
   "outputs": [
    {
     "data": {
      "text/plain": [
       "Index(['event.id', 'investigation.type', 'accident.number', 'event.date',\n",
       "       'location', 'country', 'latitude', 'longitude', 'airport.code',\n",
       "       'airport.name', 'injury.severity', 'aircraft.damage',\n",
       "       'aircraft.category', 'registration.number', 'make', 'model',\n",
       "       'amateur.built', 'number.of.engines', 'engine.type', 'far.description',\n",
       "       'schedule', 'purpose.of.flight', 'air.carrier', 'total.fatal.injuries',\n",
       "       'total.serious.injuries', 'total.minor.injuries', 'total.uninjured',\n",
       "       'weather.condition', 'broad.phase.of.flight', 'report.status',\n",
       "       'publication.date'],\n",
       "      dtype='object')"
      ]
     },
     "execution_count": 95,
     "metadata": {},
     "output_type": "execute_result"
    }
   ],
   "source": [
    "df2.columns # This was to confirm all the columns were now in lower case"
   ]
  },
  {
   "cell_type": "code",
   "execution_count": 96,
   "id": "c53e7285",
   "metadata": {},
   "outputs": [
    {
     "data": {
      "text/plain": [
       "0"
      ]
     },
     "execution_count": 96,
     "metadata": {},
     "output_type": "execute_result"
    }
   ],
   "source": [
    "df2.duplicated().sum() # This was to identify any duplicated columns and from the output ,there was no duplicated column"
   ]
  },
  {
   "cell_type": "code",
   "execution_count": 97,
   "id": "cb1ba7ae",
   "metadata": {},
   "outputs": [],
   "source": [
    "columns_to_drop =['event.id','broad.phase.of.flight','accident.number','schedule','amateur.built', 'report.status','publication.date']\n",
    "df2_clean= df2.drop(columns = columns_to_drop, inplace=True)"
   ]
  },
  {
   "cell_type": "code",
   "execution_count": 98,
   "id": "79f6d4ad",
   "metadata": {},
   "outputs": [
    {
     "data": {
      "text/plain": [
       "Index(['investigation.type', 'event.date', 'location', 'country', 'latitude',\n",
       "       'longitude', 'airport.code', 'airport.name', 'injury.severity',\n",
       "       'aircraft.damage', 'aircraft.category', 'registration.number', 'make',\n",
       "       'model', 'number.of.engines', 'engine.type', 'far.description',\n",
       "       'purpose.of.flight', 'air.carrier', 'total.fatal.injuries',\n",
       "       'total.serious.injuries', 'total.minor.injuries', 'total.uninjured',\n",
       "       'weather.condition'],\n",
       "      dtype='object')"
      ]
     },
     "execution_count": 98,
     "metadata": {},
     "output_type": "execute_result"
    }
   ],
   "source": [
    "df2.columns # I checked the columns to ensure i had dropped the selected columns"
   ]
  },
  {
   "cell_type": "markdown",
   "id": "5273aeb0",
   "metadata": {},
   "source": [
    "### Data Cleaning"
   ]
  },
  {
   "cell_type": "markdown",
   "id": "e31b291c",
   "metadata": {},
   "source": [
    "After identifiying all the missing data in the columns, I had to find a way to deal with the columns so as to work with consistent data"
   ]
  },
  {
   "cell_type": "code",
   "execution_count": 99,
   "id": "d6bca146",
   "metadata": {},
   "outputs": [],
   "source": [
    "#I dropped columns whose missing values were more than 50% and were also not vital for my analysis\n",
    "columns_to_drop =['investigation.type','aircraft.damage','registration.number','far.description','air.carrier','airport.code']\n",
    "df2_clean= df2.drop(columns = columns_to_drop, inplace=True)"
   ]
  },
  {
   "cell_type": "code",
   "execution_count": 100,
   "id": "79072b73",
   "metadata": {},
   "outputs": [],
   "source": [
    "# Considering i could use Location i decided to drop both the longitude and latitude columns\n",
    "columns_to_drop =['longitude','latitude']\n",
    "df2_clean= df2.drop(columns = columns_to_drop, inplace=True)"
   ]
  },
  {
   "cell_type": "code",
   "execution_count": 101,
   "id": "27602771",
   "metadata": {},
   "outputs": [
    {
     "name": "stdout",
     "output_type": "stream",
     "text": [
      "event.date                    0\n",
      "location                     52\n",
      "country                     226\n",
      "airport.name              36185\n",
      "injury.severity            1000\n",
      "aircraft.category         56602\n",
      "make                         63\n",
      "model                        92\n",
      "number.of.engines          6084\n",
      "engine.type                7096\n",
      "purpose.of.flight          6192\n",
      "total.fatal.injuries      11401\n",
      "total.serious.injuries    12510\n",
      "total.minor.injuries      11933\n",
      "total.uninjured            5912\n",
      "weather.condition          4492\n",
      "dtype: int64\n"
     ]
    }
   ],
   "source": [
    "# the data still had a lot of missing data that needed to be sorted\n",
    "print(df2.isnull().sum())"
   ]
  },
  {
   "cell_type": "markdown",
   "id": "189edc27",
   "metadata": {},
   "source": [
    "Since the data had various categorical columns,they had to be handled differently"
   ]
  },
  {
   "cell_type": "code",
   "execution_count": 102,
   "id": "bedb1f42",
   "metadata": {},
   "outputs": [],
   "source": [
    "# For this column, i fiiled the missing values with Unkown\n",
    "df2['Weather.Condition']=df2['weather.condition'].fillna('Unkown')"
   ]
  },
  {
   "cell_type": "code",
   "execution_count": 103,
   "id": "2a9b0bea",
   "metadata": {},
   "outputs": [],
   "source": [
    "# For this column, i fiiled the missing values with Unkown\n",
    "df2['weather.condition']=df2['weather.condition'].fillna('Unkown')"
   ]
  },
  {
   "cell_type": "markdown",
   "id": "4f8ff34d",
   "metadata": {},
   "source": [
    "For the model and the make ,I used the mode value ,which is the most appearing to fill all the other missing values"
   ]
  },
  {
   "cell_type": "code",
   "execution_count": 104,
   "id": "14858140",
   "metadata": {},
   "outputs": [],
   "source": [
    "make_mode=(df2[\"make\"].mode()[0])\n",
    "df2['make']=df2['make'].fillna(make_mode)\n"
   ]
  },
  {
   "cell_type": "code",
   "execution_count": 105,
   "id": "c3f4708b",
   "metadata": {},
   "outputs": [],
   "source": [
    "model_mode=(df2[\"model\"].mode()[0])\n",
    "df2['model']=df2['model'].fillna(model_mode)\n"
   ]
  },
  {
   "cell_type": "code",
   "execution_count": 106,
   "id": "41e6f140",
   "metadata": {},
   "outputs": [
    {
     "name": "stdout",
     "output_type": "stream",
     "text": [
      "event.date                    0\n",
      "location                     52\n",
      "country                     226\n",
      "airport.name              36185\n",
      "injury.severity            1000\n",
      "aircraft.category         56602\n",
      "make                          0\n",
      "model                         0\n",
      "number.of.engines          6084\n",
      "engine.type                7096\n",
      "purpose.of.flight          6192\n",
      "total.fatal.injuries      11401\n",
      "total.serious.injuries    12510\n",
      "total.minor.injuries      11933\n",
      "total.uninjured            5912\n",
      "weather.condition             0\n",
      "Weather.Condition             0\n",
      "dtype: int64\n"
     ]
    }
   ],
   "source": [
    "print(df2.isnull().sum())# from this i could tell that the make ,model and weather condition columns no longer had missing values"
   ]
  },
  {
   "cell_type": "code",
   "execution_count": 107,
   "id": "6396d59d",
   "metadata": {},
   "outputs": [],
   "source": [
    "# Considering location,country ,airport name and injury severity  were also categorical columns ,i used the mode value to fill the missing values\n",
    "df2['location'] = df2['location'].fillna(df2['location'].mode()[0])\n",
    "df2['country'] = df2['country'].fillna(df2['country'].mode()[0])\n",
    "df2['airport.name'] = df2['airport.name'].fillna(df2['airport.name'].mode()[0])\n",
    "df2['injury.severity'] = df2['injury.severity'].fillna(df2['injury.severity'].mode()[0])\n"
   ]
  },
  {
   "cell_type": "markdown",
   "id": "15f8e1b7",
   "metadata": {},
   "source": [
    "for the following numerical columns ,i used the median value to fill the missing values"
   ]
  },
  {
   "cell_type": "code",
   "execution_count": 108,
   "id": "32a2f818",
   "metadata": {},
   "outputs": [],
   "source": [
    "\n",
    "df2['total.fatal.injuries'] = df2['total.fatal.injuries'].fillna(df2['total.fatal.injuries'].median())\n",
    "df2['total.serious.injuries'] = df2['total.serious.injuries'].fillna(df2['total.serious.injuries'].median())\n",
    "df2['total.minor.injuries'] = df2['total.minor.injuries'].fillna(df2['total.minor.injuries'].median())\n",
    "df2['total.uninjured'] = df2['total.uninjured'].fillna(df2['total.uninjured'].median())"
   ]
  },
  {
   "cell_type": "code",
   "execution_count": 109,
   "id": "a80cb173",
   "metadata": {},
   "outputs": [
    {
     "name": "stdout",
     "output_type": "stream",
     "text": [
      "event.date                    0\n",
      "location                      0\n",
      "country                       0\n",
      "airport.name                  0\n",
      "injury.severity               0\n",
      "aircraft.category         56602\n",
      "make                          0\n",
      "model                         0\n",
      "number.of.engines          6084\n",
      "engine.type                7096\n",
      "purpose.of.flight          6192\n",
      "total.fatal.injuries          0\n",
      "total.serious.injuries        0\n",
      "total.minor.injuries          0\n",
      "total.uninjured               0\n",
      "weather.condition             0\n",
      "Weather.Condition             0\n",
      "dtype: int64\n"
     ]
    }
   ],
   "source": [
    "print(df2.isnull().sum())# I checked to see if there were any more columns with missing values"
   ]
  },
  {
   "cell_type": "code",
   "execution_count": 110,
   "id": "a579f6ba",
   "metadata": {},
   "outputs": [],
   "source": [
    "#Having seen i had more categorical columns, I used the modal value to fill the missing columns\n",
    "df2['aircraft.category'] = df2['aircraft.category'].fillna(df2['aircraft.category'].mode()[0])\n",
    "df2['engine.type'] = df2['engine.type'].fillna(df2['engine.type'].mode()[0])\n",
    "df2['purpose.of.flight'] = df2['purpose.of.flight'].fillna(df2['purpose.of.flight'].mode()[0])"
   ]
  },
  {
   "cell_type": "code",
   "execution_count": 111,
   "id": "9648225b",
   "metadata": {},
   "outputs": [
    {
     "name": "stdout",
     "output_type": "stream",
     "text": [
      "event.date                   0\n",
      "location                     0\n",
      "country                      0\n",
      "airport.name                 0\n",
      "injury.severity              0\n",
      "aircraft.category            0\n",
      "make                         0\n",
      "model                        0\n",
      "number.of.engines         6084\n",
      "engine.type                  0\n",
      "purpose.of.flight            0\n",
      "total.fatal.injuries         0\n",
      "total.serious.injuries       0\n",
      "total.minor.injuries         0\n",
      "total.uninjured              0\n",
      "weather.condition            0\n",
      "Weather.Condition            0\n",
      "dtype: int64\n"
     ]
    }
   ],
   "source": [
    "print(df2.isnull().sum()) # only the number of engines had missing values"
   ]
  },
  {
   "cell_type": "code",
   "execution_count": 112,
   "id": "343ac749",
   "metadata": {},
   "outputs": [],
   "source": [
    "# I ran this code to fill the missing values with the median\n",
    "df2['number.of.engines'] = df2['number.of.engines'].fillna(df2['number.of.engines'].median())"
   ]
  },
  {
   "cell_type": "code",
   "execution_count": 113,
   "id": "7758f095",
   "metadata": {},
   "outputs": [
    {
     "name": "stdout",
     "output_type": "stream",
     "text": [
      "event.date                0\n",
      "location                  0\n",
      "country                   0\n",
      "airport.name              0\n",
      "injury.severity           0\n",
      "aircraft.category         0\n",
      "make                      0\n",
      "model                     0\n",
      "number.of.engines         0\n",
      "engine.type               0\n",
      "purpose.of.flight         0\n",
      "total.fatal.injuries      0\n",
      "total.serious.injuries    0\n",
      "total.minor.injuries      0\n",
      "total.uninjured           0\n",
      "weather.condition         0\n",
      "Weather.Condition         0\n",
      "dtype: int64\n"
     ]
    }
   ],
   "source": [
    "print(df2.isnull().sum()) # I did a final check and all of the missing values in the columns had been filled"
   ]
  },
  {
   "cell_type": "code",
   "execution_count": 114,
   "id": "17368d9b",
   "metadata": {},
   "outputs": [],
   "source": [
    "# i saved the cleaned data to a new file for ease of Analysis without tempering with the original data\n",
    "df2.to_csv(\"AviationData_clean.csv\",index= False)"
   ]
  },
  {
   "cell_type": "code",
   "execution_count": 115,
   "id": "d72794db",
   "metadata": {},
   "outputs": [],
   "source": [
    "# Having two columns with similar names, i decided to delete one \n",
    "del df2[\"Weather.Condition\"]"
   ]
  },
  {
   "cell_type": "markdown",
   "id": "2f8239f4",
   "metadata": {},
   "source": [
    "### Exploratory Data Analysis"
   ]
  },
  {
   "cell_type": "markdown",
   "id": "c4869394",
   "metadata": {},
   "source": [
    "Now, to the analysis of the data ,i had to load and read the clean data for Analysis"
   ]
  },
  {
   "cell_type": "code",
   "execution_count": 116,
   "id": "cd877b5c",
   "metadata": {},
   "outputs": [
    {
     "data": {
      "text/html": [
       "<div>\n",
       "<style scoped>\n",
       "    .dataframe tbody tr th:only-of-type {\n",
       "        vertical-align: middle;\n",
       "    }\n",
       "\n",
       "    .dataframe tbody tr th {\n",
       "        vertical-align: top;\n",
       "    }\n",
       "\n",
       "    .dataframe thead th {\n",
       "        text-align: right;\n",
       "    }\n",
       "</style>\n",
       "<table border=\"1\" class=\"dataframe\">\n",
       "  <thead>\n",
       "    <tr style=\"text-align: right;\">\n",
       "      <th></th>\n",
       "      <th>event.date</th>\n",
       "      <th>location</th>\n",
       "      <th>country</th>\n",
       "      <th>airport.name</th>\n",
       "      <th>injury.severity</th>\n",
       "      <th>aircraft.category</th>\n",
       "      <th>make</th>\n",
       "      <th>model</th>\n",
       "      <th>number.of.engines</th>\n",
       "      <th>engine.type</th>\n",
       "      <th>purpose.of.flight</th>\n",
       "      <th>total.fatal.injuries</th>\n",
       "      <th>total.serious.injuries</th>\n",
       "      <th>total.minor.injuries</th>\n",
       "      <th>total.uninjured</th>\n",
       "      <th>weather.condition</th>\n",
       "      <th>Weather.Condition</th>\n",
       "    </tr>\n",
       "  </thead>\n",
       "  <tbody>\n",
       "    <tr>\n",
       "      <th>0</th>\n",
       "      <td>1948-10-24</td>\n",
       "      <td>MOOSE CREEK, ID</td>\n",
       "      <td>United States</td>\n",
       "      <td>Private</td>\n",
       "      <td>Fatal(2)</td>\n",
       "      <td>Airplane</td>\n",
       "      <td>Stinson</td>\n",
       "      <td>108-3</td>\n",
       "      <td>1.0</td>\n",
       "      <td>Reciprocating</td>\n",
       "      <td>Personal</td>\n",
       "      <td>2.0</td>\n",
       "      <td>0.0</td>\n",
       "      <td>0.0</td>\n",
       "      <td>0.0</td>\n",
       "      <td>UNK</td>\n",
       "      <td>UNK</td>\n",
       "    </tr>\n",
       "    <tr>\n",
       "      <th>1</th>\n",
       "      <td>1962-07-19</td>\n",
       "      <td>BRIDGEPORT, CA</td>\n",
       "      <td>United States</td>\n",
       "      <td>Private</td>\n",
       "      <td>Fatal(4)</td>\n",
       "      <td>Airplane</td>\n",
       "      <td>Piper</td>\n",
       "      <td>PA24-180</td>\n",
       "      <td>1.0</td>\n",
       "      <td>Reciprocating</td>\n",
       "      <td>Personal</td>\n",
       "      <td>4.0</td>\n",
       "      <td>0.0</td>\n",
       "      <td>0.0</td>\n",
       "      <td>0.0</td>\n",
       "      <td>UNK</td>\n",
       "      <td>UNK</td>\n",
       "    </tr>\n",
       "    <tr>\n",
       "      <th>2</th>\n",
       "      <td>1974-08-30</td>\n",
       "      <td>Saltville, VA</td>\n",
       "      <td>United States</td>\n",
       "      <td>Private</td>\n",
       "      <td>Fatal(3)</td>\n",
       "      <td>Airplane</td>\n",
       "      <td>Cessna</td>\n",
       "      <td>172M</td>\n",
       "      <td>1.0</td>\n",
       "      <td>Reciprocating</td>\n",
       "      <td>Personal</td>\n",
       "      <td>3.0</td>\n",
       "      <td>0.0</td>\n",
       "      <td>0.0</td>\n",
       "      <td>1.0</td>\n",
       "      <td>IMC</td>\n",
       "      <td>IMC</td>\n",
       "    </tr>\n",
       "    <tr>\n",
       "      <th>3</th>\n",
       "      <td>1977-06-19</td>\n",
       "      <td>EUREKA, CA</td>\n",
       "      <td>United States</td>\n",
       "      <td>Private</td>\n",
       "      <td>Fatal(2)</td>\n",
       "      <td>Airplane</td>\n",
       "      <td>Rockwell</td>\n",
       "      <td>112</td>\n",
       "      <td>1.0</td>\n",
       "      <td>Reciprocating</td>\n",
       "      <td>Personal</td>\n",
       "      <td>2.0</td>\n",
       "      <td>0.0</td>\n",
       "      <td>0.0</td>\n",
       "      <td>0.0</td>\n",
       "      <td>IMC</td>\n",
       "      <td>IMC</td>\n",
       "    </tr>\n",
       "    <tr>\n",
       "      <th>4</th>\n",
       "      <td>1979-08-02</td>\n",
       "      <td>Canton, OH</td>\n",
       "      <td>United States</td>\n",
       "      <td>Private</td>\n",
       "      <td>Fatal(1)</td>\n",
       "      <td>Airplane</td>\n",
       "      <td>Cessna</td>\n",
       "      <td>501</td>\n",
       "      <td>1.0</td>\n",
       "      <td>Reciprocating</td>\n",
       "      <td>Personal</td>\n",
       "      <td>1.0</td>\n",
       "      <td>2.0</td>\n",
       "      <td>0.0</td>\n",
       "      <td>0.0</td>\n",
       "      <td>VMC</td>\n",
       "      <td>VMC</td>\n",
       "    </tr>\n",
       "  </tbody>\n",
       "</table>\n",
       "</div>"
      ],
      "text/plain": [
       "   event.date         location        country airport.name injury.severity  \\\n",
       "0  1948-10-24  MOOSE CREEK, ID  United States      Private        Fatal(2)   \n",
       "1  1962-07-19   BRIDGEPORT, CA  United States      Private        Fatal(4)   \n",
       "2  1974-08-30    Saltville, VA  United States      Private        Fatal(3)   \n",
       "3  1977-06-19       EUREKA, CA  United States      Private        Fatal(2)   \n",
       "4  1979-08-02       Canton, OH  United States      Private        Fatal(1)   \n",
       "\n",
       "  aircraft.category      make     model  number.of.engines    engine.type  \\\n",
       "0          Airplane   Stinson     108-3                1.0  Reciprocating   \n",
       "1          Airplane     Piper  PA24-180                1.0  Reciprocating   \n",
       "2          Airplane    Cessna      172M                1.0  Reciprocating   \n",
       "3          Airplane  Rockwell       112                1.0  Reciprocating   \n",
       "4          Airplane    Cessna       501                1.0  Reciprocating   \n",
       "\n",
       "  purpose.of.flight  total.fatal.injuries  total.serious.injuries  \\\n",
       "0          Personal                   2.0                     0.0   \n",
       "1          Personal                   4.0                     0.0   \n",
       "2          Personal                   3.0                     0.0   \n",
       "3          Personal                   2.0                     0.0   \n",
       "4          Personal                   1.0                     2.0   \n",
       "\n",
       "   total.minor.injuries  total.uninjured weather.condition Weather.Condition  \n",
       "0                   0.0              0.0               UNK               UNK  \n",
       "1                   0.0              0.0               UNK               UNK  \n",
       "2                   0.0              1.0               IMC               IMC  \n",
       "3                   0.0              0.0               IMC               IMC  \n",
       "4                   0.0              0.0               VMC               VMC  "
      ]
     },
     "execution_count": 116,
     "metadata": {},
     "output_type": "execute_result"
    }
   ],
   "source": [
    "# I ran this code, to open and read the cleaned file\n",
    "data=pd.read_csv(\"AviationData_clean.csv\")\n",
    "data.head()"
   ]
  },
  {
   "cell_type": "code",
   "execution_count": 117,
   "id": "2f9db87a",
   "metadata": {},
   "outputs": [
    {
     "data": {
      "text/plain": [
       "event.date                0\n",
       "location                  0\n",
       "country                   0\n",
       "airport.name              0\n",
       "injury.severity           0\n",
       "aircraft.category         0\n",
       "make                      0\n",
       "model                     0\n",
       "number.of.engines         0\n",
       "engine.type               0\n",
       "purpose.of.flight         0\n",
       "total.fatal.injuries      0\n",
       "total.serious.injuries    0\n",
       "total.minor.injuries      0\n",
       "total.uninjured           0\n",
       "weather.condition         0\n",
       "Weather.Condition         0\n",
       "dtype: int64"
      ]
     },
     "execution_count": 117,
     "metadata": {},
     "output_type": "execute_result"
    }
   ],
   "source": [
    "data.isna().sum() # i confirmed that there were missing values"
   ]
  },
  {
   "cell_type": "code",
   "execution_count": 118,
   "id": "e03261a1",
   "metadata": {},
   "outputs": [],
   "source": [
    "data.drop(columns=['Weather.Condition'], inplace=True)"
   ]
  },
  {
   "cell_type": "markdown",
   "id": "3bde6e8a",
   "metadata": {},
   "source": [
    "### Univariate Analysis"
   ]
  },
  {
   "cell_type": "code",
   "execution_count": 119,
   "id": "e5c95c68",
   "metadata": {},
   "outputs": [
    {
     "data": {
      "text/plain": [
       "aircraft.category\n",
       "Airplane      84219\n",
       "Helicopter     3440\n",
       "Glider          508\n",
       "Balloon         231\n",
       "Gyrocraft       173\n",
       "Name: count, dtype: int64"
      ]
     },
     "execution_count": 119,
     "metadata": {},
     "output_type": "execute_result"
    }
   ],
   "source": [
    "top_5_aircraft_category_count=data[\"aircraft.category\"].value_counts().head(5)\n",
    "top_5_aircraft_category_count"
   ]
  },
  {
   "cell_type": "code",
   "execution_count": 120,
   "id": "3dba2fef",
   "metadata": {},
   "outputs": [
    {
     "data": {
      "image/png": "[encoded data removed]",
      "text/plain": [
       "<Figure size 640x480 with 1 Axes>"
      ]
     },
     "metadata": {},
     "output_type": "display_data"
    }
   ],
   "source": [
    " # Aircraft category distribution\n",
    "top_5_aircraft_category_count.plot(kind='bar',color='blue')\n",
    "plt.title('Aircraft Category bar plot')\n",
    "plt.ylabel(\"Total Number\")\n",
    "plt.show()"
   ]
  },
  {
   "cell_type": "code",
   "execution_count": 129,
   "id": "c5924c1e",
   "metadata": {},
   "outputs": [
    {
     "data": {
      "image/png": "[encoded data removed]",
      "text/plain": [
       "<Figure size 640x480 with 1 Axes>"
      ]
     },
     "metadata": {},
     "output_type": "display_data"
    }
   ],
   "source": [
    "# This code gives a distribution of weather conditions\n",
    "sns.countplot(x='weather.condition', data=data) # from this we can see the VMC weather condition had the highest frequency\n",
    "plt.title('Distribution of Weather Conditions')\n",
    "plt.show()"
   ]
  },
  {
   "cell_type": "markdown",
   "id": "d134bbdb",
   "metadata": {},
   "source": [
    "### Bivariate Analysis"
   ]
  },
  {
   "cell_type": "code",
   "execution_count": 130,
   "id": "4d88e61d",
   "metadata": {},
   "outputs": [
    {
     "data": {
      "image/png": "[encoded data removed]",
      "text/plain": [
       "<Figure size 1000x600 with 1 Axes>"
      ]
     },
     "metadata": {},
     "output_type": "display_data"
    }
   ],
   "source": [
    "#In finding out the relationship between the Weather condition and the total Fatal injuries ,i used a box plot as it is able to give the skwenness of the data ,as well as identify outliers in the data\n",
    "plt.figure(figsize=(10, 6))\n",
    "sns.boxplot(x='weather.condition', y='total.fatal.injuries', data=data, hue='weather.condition', palette='Set2', legend=False)\n",
    "plt.title('Total Fatal Injuries by Weather Condition')\n",
    "plt.xticks(rotation=45)\n",
    "plt.xlabel('Weather Condition')\n",
    "plt.ylabel('Total Fatal Injuries')\n",
    "plt.show()\n",
    "\n"
   ]
  },
  {
   "cell_type": "code",
   "execution_count": 131,
   "id": "00a83778",
   "metadata": {},
   "outputs": [
    {
     "data": {
      "image/png": "[encoded data removed]",
      "text/plain": [
       "<Figure size 800x600 with 1 Axes>"
      ]
     },
     "metadata": {},
     "output_type": "display_data"
    }
   ],
   "source": [
    "\n",
    "# Group by aircraft category and sum the fatal injuries\n",
    "category_injury_data = data.groupby('aircraft.category').agg({'total.fatal.injuries': 'sum'}).head(5)\n",
    "\n",
    "# Plot the bar plot between the top 5 categories and their fatal injuries\n",
    "plt.figure(figsize=(8, 6))\n",
    "plt.bar(category_injury_data.index, category_injury_data['total.fatal.injuries'], alpha=0.7, color='purple')\n",
    "plt.title('Fatal Injuries vs Aircraft Category')\n",
    "plt.xlabel('Aircraft Category')\n",
    "plt.ylabel('Total Fatal Injuries')\n",
    "plt.xticks(rotation=45)\n",
    "plt.show()\n",
    "\n"
   ]
  },
  {
   "cell_type": "markdown",
   "id": "680150d2",
   "metadata": {},
   "source": [
    "Among the Aircrafts used, the Airplane seems to be used more compared to the rest"
   ]
  },
  {
   "cell_type": "markdown",
   "id": "57634a93",
   "metadata": {},
   "source": [
    "### Multivariate analysis"
   ]
  },
  {
   "cell_type": "code",
   "execution_count": null,
   "id": "7f35773f",
   "metadata": {},
   "outputs": [],
   "source": [
    "import seaborn as sns\n",
    "# For multivariate Analysis ,i used the pair plot to know the distribution of numerical columns\n",
    "columns = ['total.fatal.injuries', 'total.serious.injuries', 'total.minor.injuries']\n",
    "sns.pairplot(data[columns], diag_kind='kde', plot_kws={'alpha':0.5})\n",
    "plt.suptitle('Pair Plot of Injury Severities', y=1.02)\n",
    "plt.show()\n"
   ]
  },
  {
   "cell_type": "markdown",
   "id": "1c8bf3ac",
   "metadata": {},
   "source": [
    " From the data an increase in fatal injuries correlates with more serious injuries"
   ]
  }
 ],
 "metadata": {
  "kernelspec": {
   "display_name": "Python 3 (ipykernel)",
   "language": "python",
   "name": "python3"
  },
  "language_info": {
   "codemirror_mode": {
    "name": "ipython",
    "version": 3
   },
   "file_extension": ".py",
   "mimetype": "text/x-python",
   "name": "python",
   "nbconvert_exporter": "python",
   "pygments_lexer": "ipython3",
   "version": "3.11.9"
  }
 },
 "nbformat": 4,
 "nbformat_minor": 5
}
